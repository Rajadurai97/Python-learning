{
 "cells": [
  {
   "cell_type": "code",
   "execution_count": 1,
   "id": "10352bde",
   "metadata": {},
   "outputs": [
    {
     "data": {
      "text/plain": [
       "5"
      ]
     },
     "execution_count": 1,
     "metadata": {},
     "output_type": "execute_result"
    }
   ],
   "source": [
    "len('hello')"
   ]
  },
  {
   "cell_type": "code",
   "execution_count": 2,
   "id": "07ea6ece",
   "metadata": {},
   "outputs": [
    {
     "data": {
      "text/plain": [
       "4"
      ]
     },
     "execution_count": 2,
     "metadata": {},
     "output_type": "execute_result"
    }
   ],
   "source": [
    "len(\"i am\")"
   ]
  },
  {
   "cell_type": "code",
   "execution_count": 3,
   "id": "26485923",
   "metadata": {},
   "outputs": [],
   "source": [
    "My_string = \"Hello world\""
   ]
  },
  {
   "cell_type": "code",
   "execution_count": 4,
   "id": "312c52fb",
   "metadata": {},
   "outputs": [
    {
     "data": {
      "text/plain": [
       "'Hello world'"
      ]
     },
     "execution_count": 4,
     "metadata": {},
     "output_type": "execute_result"
    }
   ],
   "source": [
    "My_string"
   ]
  },
  {
   "cell_type": "code",
   "execution_count": 5,
   "id": "161d8c69",
   "metadata": {},
   "outputs": [
    {
     "data": {
      "text/plain": [
       "'H'"
      ]
     },
     "execution_count": 5,
     "metadata": {},
     "output_type": "execute_result"
    }
   ],
   "source": [
    "My_string[0]"
   ]
  },
  {
   "cell_type": "code",
   "execution_count": 6,
   "id": "95370b31",
   "metadata": {},
   "outputs": [
    {
     "data": {
      "text/plain": [
       "'o'"
      ]
     },
     "execution_count": 6,
     "metadata": {},
     "output_type": "execute_result"
    }
   ],
   "source": [
    "My_string[7]"
   ]
  },
  {
   "cell_type": "code",
   "execution_count": 7,
   "id": "06b44d1e",
   "metadata": {},
   "outputs": [
    {
     "data": {
      "text/plain": [
       "'d'"
      ]
     },
     "execution_count": 7,
     "metadata": {},
     "output_type": "execute_result"
    }
   ],
   "source": [
    "My_string[-1]"
   ]
  },
  {
   "cell_type": "code",
   "execution_count": 8,
   "id": "642923d4",
   "metadata": {},
   "outputs": [
    {
     "data": {
      "text/plain": [
       "'l'"
      ]
     },
     "execution_count": 8,
     "metadata": {},
     "output_type": "execute_result"
    }
   ],
   "source": [
    "My_string[-2]"
   ]
  },
  {
   "cell_type": "code",
   "execution_count": 9,
   "id": "cfdb0fbf",
   "metadata": {},
   "outputs": [],
   "source": [
    "My_string = 'ABCDEFGHIJK'"
   ]
  },
  {
   "cell_type": "code",
   "execution_count": 10,
   "id": "0a046299",
   "metadata": {},
   "outputs": [
    {
     "data": {
      "text/plain": [
       "'ABCDEFGHIJK'"
      ]
     },
     "execution_count": 10,
     "metadata": {},
     "output_type": "execute_result"
    }
   ],
   "source": [
    "My_string"
   ]
  },
  {
   "cell_type": "code",
   "execution_count": 12,
   "id": "1960cbb6",
   "metadata": {},
   "outputs": [
    {
     "data": {
      "text/plain": [
       "'ABCDEFGHIJK'"
      ]
     },
     "execution_count": 12,
     "metadata": {},
     "output_type": "execute_result"
    }
   ],
   "source": [
    "My_string[0:] #Slicing start with 0"
   ]
  },
  {
   "cell_type": "code",
   "execution_count": 13,
   "id": "743265f0",
   "metadata": {},
   "outputs": [
    {
     "data": {
      "text/plain": [
       "'CDEFGHIJK'"
      ]
     },
     "execution_count": 13,
     "metadata": {},
     "output_type": "execute_result"
    }
   ],
   "source": [
    "My_string[2:]"
   ]
  },
  {
   "cell_type": "code",
   "execution_count": 14,
   "id": "d337f800",
   "metadata": {},
   "outputs": [
    {
     "data": {
      "text/plain": [
       "'ABC'"
      ]
     },
     "execution_count": 14,
     "metadata": {},
     "output_type": "execute_result"
    }
   ],
   "source": [
    "My_string[:3] # the index in stop is not considered"
   ]
  },
  {
   "cell_type": "code",
   "execution_count": 17,
   "id": "600ecb42",
   "metadata": {},
   "outputs": [
    {
     "data": {
      "text/plain": [
       "'ABCDEFGHIJK'"
      ]
     },
     "execution_count": 17,
     "metadata": {},
     "output_type": "execute_result"
    }
   ],
   "source": [
    "My_string"
   ]
  },
  {
   "cell_type": "code",
   "execution_count": 18,
   "id": "cdc20d3c",
   "metadata": {},
   "outputs": [
    {
     "data": {
      "text/plain": [
       "'CDEFGHI'"
      ]
     },
     "execution_count": 18,
     "metadata": {},
     "output_type": "execute_result"
    }
   ],
   "source": [
    "My_string[2:-2] # here [start: stop]"
   ]
  },
  {
   "cell_type": "code",
   "execution_count": 19,
   "id": "283cb1c8",
   "metadata": {},
   "outputs": [
    {
     "data": {
      "text/plain": [
       "'CEGI'"
      ]
     },
     "execution_count": 19,
     "metadata": {},
     "output_type": "execute_result"
    }
   ],
   "source": [
    "My_string[2:-1:2] # here [start: stop : step]"
   ]
  },
  {
   "cell_type": "code",
   "execution_count": 20,
   "id": "793e3c95",
   "metadata": {},
   "outputs": [
    {
     "data": {
      "text/plain": [
       "'KJIHGFEDCBA'"
      ]
     },
     "execution_count": 20,
     "metadata": {},
     "output_type": "execute_result"
    }
   ],
   "source": [
    "My_string[::-1] # reverse the string "
   ]
  },
  {
   "cell_type": "code",
   "execution_count": null,
   "id": "6ab2eafd",
   "metadata": {},
   "outputs": [],
   "source": []
  }
 ],
 "metadata": {
  "kernelspec": {
   "display_name": "Python 3 (ipykernel)",
   "language": "python",
   "name": "python3"
  },
  "language_info": {
   "codemirror_mode": {
    "name": "ipython",
    "version": 3
   },
   "file_extension": ".py",
   "mimetype": "text/x-python",
   "name": "python",
   "nbconvert_exporter": "python",
   "pygments_lexer": "ipython3",
   "version": "3.11.5"
  }
 },
 "nbformat": 4,
 "nbformat_minor": 5
}
