{
 "cells": [
  {
   "cell_type": "markdown",
   "id": "f748d76a",
   "metadata": {},
   "source": [
    "# Immutability"
   ]
  },
  {
   "cell_type": "code",
   "execution_count": 9,
   "id": "85e15614",
   "metadata": {},
   "outputs": [],
   "source": [
    "name = \"Sam\""
   ]
  },
  {
   "cell_type": "code",
   "execution_count": 10,
   "id": "cd1fb419",
   "metadata": {},
   "outputs": [
    {
     "ename": "TypeError",
     "evalue": "'str' object does not support item assignment",
     "output_type": "error",
     "traceback": [
      "\u001b[1;31m---------------------------------------------------------------------------\u001b[0m",
      "\u001b[1;31mTypeError\u001b[0m                                 Traceback (most recent call last)",
      "Cell \u001b[1;32mIn[10], line 1\u001b[0m\n\u001b[1;32m----> 1\u001b[0m name[\u001b[38;5;241m0\u001b[39m] \u001b[38;5;241m=\u001b[39m \u001b[38;5;124m'\u001b[39m\u001b[38;5;124mP\u001b[39m\u001b[38;5;124m'\u001b[39m\n",
      "\u001b[1;31mTypeError\u001b[0m: 'str' object does not support item assignment"
     ]
    }
   ],
   "source": [
    "name[0] = 'P'"
   ]
  },
  {
   "cell_type": "code",
   "execution_count": 11,
   "id": "c62e9ceb",
   "metadata": {},
   "outputs": [
    {
     "data": {
      "text/plain": [
       "'am'"
      ]
     },
     "execution_count": 11,
     "metadata": {},
     "output_type": "execute_result"
    }
   ],
   "source": [
    "name[1:]"
   ]
  },
  {
   "cell_type": "code",
   "execution_count": 12,
   "id": "01e6c891",
   "metadata": {},
   "outputs": [],
   "source": [
    "Laste_letters = name[1:]"
   ]
  },
  {
   "cell_type": "code",
   "execution_count": 13,
   "id": "215079a2",
   "metadata": {},
   "outputs": [
    {
     "data": {
      "text/plain": [
       "'am'"
      ]
     },
     "execution_count": 13,
     "metadata": {},
     "output_type": "execute_result"
    }
   ],
   "source": [
    "Laste_letters"
   ]
  },
  {
   "cell_type": "code",
   "execution_count": 14,
   "id": "3909983f",
   "metadata": {},
   "outputs": [
    {
     "data": {
      "text/plain": [
       "'Pam'"
      ]
     },
     "execution_count": 14,
     "metadata": {},
     "output_type": "execute_result"
    }
   ],
   "source": [
    "'P' + Laste_letters # EX: if Last_letters contains the string 'ython', the result would be the string 'Python', because 'P' is concatenated with 'ython', resulting in 'Python'."
   ]
  },
  {
   "cell_type": "code",
   "execution_count": 18,
   "id": "de0e469e",
   "metadata": {},
   "outputs": [],
   "source": [
    "X = \"Hello world\""
   ]
  },
  {
   "cell_type": "code",
   "execution_count": 30,
   "id": "df66eb4e",
   "metadata": {},
   "outputs": [],
   "source": [
    "X = X + \" It is beatiful outside\" # String concatination"
   ]
  },
  {
   "cell_type": "code",
   "execution_count": 31,
   "id": "8b5bd708",
   "metadata": {},
   "outputs": [
    {
     "data": {
      "text/plain": [
       "'Hello world It is beatiful outside It is beatiful outside It is beatiful outside It is beatiful outside'"
      ]
     },
     "execution_count": 31,
     "metadata": {},
     "output_type": "execute_result"
    }
   ],
   "source": [
    "X"
   ]
  },
  {
   "cell_type": "code",
   "execution_count": 32,
   "id": "1e6ba97d",
   "metadata": {},
   "outputs": [],
   "source": [
    "letter = \"a\""
   ]
  },
  {
   "cell_type": "code",
   "execution_count": 33,
   "id": "422fd836",
   "metadata": {},
   "outputs": [
    {
     "data": {
      "text/plain": [
       "'aaaaaaaaaa'"
      ]
     },
     "execution_count": 33,
     "metadata": {},
     "output_type": "execute_result"
    }
   ],
   "source": [
    "letter * 10"
   ]
  },
  {
   "cell_type": "code",
   "execution_count": 34,
   "id": "d9f5f7a3",
   "metadata": {},
   "outputs": [
    {
     "data": {
      "text/plain": [
       "5"
      ]
     },
     "execution_count": 34,
     "metadata": {},
     "output_type": "execute_result"
    }
   ],
   "source": [
    "2 + 3"
   ]
  },
  {
   "cell_type": "code",
   "execution_count": 35,
   "id": "d8767829",
   "metadata": {},
   "outputs": [
    {
     "data": {
      "text/plain": [
       "'23'"
      ]
     },
     "execution_count": 35,
     "metadata": {},
     "output_type": "execute_result"
    }
   ],
   "source": [
    "'2' + '3'"
   ]
  },
  {
   "cell_type": "code",
   "execution_count": 36,
   "id": "04714ef8",
   "metadata": {},
   "outputs": [],
   "source": [
    "X =  \"Hello world\""
   ]
  },
  {
   "cell_type": "code",
   "execution_count": 37,
   "id": "ee686eae",
   "metadata": {},
   "outputs": [
    {
     "data": {
      "text/plain": [
       "'HELLO WORLD'"
      ]
     },
     "execution_count": 37,
     "metadata": {},
     "output_type": "execute_result"
    }
   ],
   "source": [
    "X.upper()"
   ]
  },
  {
   "cell_type": "code",
   "execution_count": 38,
   "id": "4a215485",
   "metadata": {},
   "outputs": [
    {
     "data": {
      "text/plain": [
       "'Hello world'"
      ]
     },
     "execution_count": 38,
     "metadata": {},
     "output_type": "execute_result"
    }
   ],
   "source": [
    "X"
   ]
  },
  {
   "cell_type": "code",
   "execution_count": 39,
   "id": "61d843ee",
   "metadata": {},
   "outputs": [
    {
     "data": {
      "text/plain": [
       "'hello world'"
      ]
     },
     "execution_count": 39,
     "metadata": {},
     "output_type": "execute_result"
    }
   ],
   "source": [
    "X.lower()"
   ]
  },
  {
   "cell_type": "code",
   "execution_count": 40,
   "id": "405fd9e7",
   "metadata": {},
   "outputs": [
    {
     "data": {
      "text/plain": [
       "['Hello', 'world']"
      ]
     },
     "execution_count": 40,
     "metadata": {},
     "output_type": "execute_result"
    }
   ],
   "source": [
    "X.split() #Default split with Space"
   ]
  },
  {
   "cell_type": "code",
   "execution_count": 43,
   "id": "946c07ba",
   "metadata": {},
   "outputs": [
    {
     "data": {
      "text/plain": [
       "['Th', 's ', 's a str', 'ng']"
      ]
     },
     "execution_count": 43,
     "metadata": {},
     "output_type": "execute_result"
    }
   ],
   "source": [
    "X = 'This is a string'\n",
    "X.split('i') # Spilit with 'i'"
   ]
  },
  {
   "cell_type": "markdown",
   "id": "df252e48",
   "metadata": {},
   "source": [
    "# Formatting with the .format() method"
   ]
  },
  {
   "cell_type": "raw",
   "id": "d4d10bca",
   "metadata": {},
   "source": [
    "A good way to format into your strings for print statement is with the string .format()\n",
    "\n",
    "The syntax is \n",
    "\n",
    "String here {} then also {}.format('something', 'somrthing')"
   ]
  },
  {
   "cell_type": "code",
   "execution_count": 44,
   "id": "3f9e8b7c",
   "metadata": {},
   "outputs": [
    {
     "name": "stdout",
     "output_type": "stream",
     "text": [
      "this sting is INSERTED\n"
     ]
    }
   ],
   "source": [
    "print(\"this sting is {}\".format(\"INSERTED\"))"
   ]
  },
  {
   "cell_type": "code",
   "execution_count": 47,
   "id": "7960e103",
   "metadata": {},
   "outputs": [
    {
     "name": "stdout",
     "output_type": "stream",
     "text": [
      "the dog and cat\n"
     ]
    }
   ],
   "source": [
    "print(\"the {} {} {}\".format(\"dog\",\"and\",\"cat\")) # format index (0,1,2)"
   ]
  },
  {
   "cell_type": "code",
   "execution_count": 49,
   "id": "f6769952",
   "metadata": {},
   "outputs": [
    {
     "name": "stdout",
     "output_type": "stream",
     "text": [
      "the cat and dog\n"
     ]
    }
   ],
   "source": [
    "print(\"the {2} {1} {0}\".format(\"dog\",\"and\",\"cat\"))"
   ]
  },
  {
   "cell_type": "code",
   "execution_count": 50,
   "id": "c9a5db83",
   "metadata": {},
   "outputs": [
    {
     "name": "stdout",
     "output_type": "stream",
     "text": [
      "the dog dog dog\n"
     ]
    }
   ],
   "source": [
    "print(\"the {0} {0} {0}\".format(\"dog\",\"and\",\"cat\"))"
   ]
  },
  {
   "cell_type": "code",
   "execution_count": 51,
   "id": "0becdba3",
   "metadata": {},
   "outputs": [
    {
     "name": "stdout",
     "output_type": "stream",
     "text": [
      "the dog and cat\n"
     ]
    }
   ],
   "source": [
    "print(\"the {f} {a} {b}\".format(f = \"dog\",a =\"and\", b=\"cat\"))"
   ]
  },
  {
   "cell_type": "markdown",
   "id": "e980e56e",
   "metadata": {},
   "source": [
    "# Float formatting follows \"{value:width.precision f}\""
   ]
  },
  {
   "cell_type": "code",
   "execution_count": 55,
   "id": "302f1a08",
   "metadata": {},
   "outputs": [],
   "source": [
    "result = 100/888"
   ]
  },
  {
   "cell_type": "code",
   "execution_count": 56,
   "id": "f662f39b",
   "metadata": {},
   "outputs": [
    {
     "data": {
      "text/plain": [
       "0.11261261261261261"
      ]
     },
     "execution_count": 56,
     "metadata": {},
     "output_type": "execute_result"
    }
   ],
   "source": [
    "result"
   ]
  },
  {
   "cell_type": "code",
   "execution_count": 61,
   "id": "f544c7b9",
   "metadata": {},
   "outputs": [
    {
     "name": "stdout",
     "output_type": "stream",
     "text": [
      "the result was      0.113\n"
     ]
    }
   ],
   "source": [
    "print(\"the result was {r:10.3f}\".format(r = result))"
   ]
  },
  {
   "cell_type": "code",
   "execution_count": 62,
   "id": "93be9a89",
   "metadata": {},
   "outputs": [],
   "source": [
    "result = 103.23211"
   ]
  },
  {
   "cell_type": "code",
   "execution_count": 64,
   "id": "f99c6398",
   "metadata": {},
   "outputs": [
    {
     "name": "stdout",
     "output_type": "stream",
     "text": [
      "the result was 103.23\n"
     ]
    }
   ],
   "source": [
    "print(\"the result was {r:1.2f}\".format(r = result))"
   ]
  },
  {
   "cell_type": "code",
   "execution_count": null,
   "id": "a94630dd",
   "metadata": {},
   "outputs": [],
   "source": []
  },
  {
   "cell_type": "code",
   "execution_count": null,
   "id": "5f0c6263",
   "metadata": {},
   "outputs": [],
   "source": []
  },
  {
   "cell_type": "code",
   "execution_count": 66,
   "id": "c715c140",
   "metadata": {},
   "outputs": [],
   "source": [
    "name = \"rose\""
   ]
  },
  {
   "cell_type": "code",
   "execution_count": 67,
   "id": "254dbc3a",
   "metadata": {},
   "outputs": [
    {
     "name": "stdout",
     "output_type": "stream",
     "text": [
      "the name is rose\n"
     ]
    }
   ],
   "source": [
    "print(\"the name is {}\".format(name))"
   ]
  },
  {
   "cell_type": "code",
   "execution_count": 68,
   "id": "fc1a8f25",
   "metadata": {},
   "outputs": [
    {
     "name": "stdout",
     "output_type": "stream",
     "text": [
      "the name is rose\n"
     ]
    }
   ],
   "source": [
    "print(f\"the name is {name}\") #f string new "
   ]
  },
  {
   "cell_type": "code",
   "execution_count": 70,
   "id": "0f17c619",
   "metadata": {},
   "outputs": [
    {
     "name": "stdout",
     "output_type": "stream",
     "text": [
      "rose is 18 years old.\n"
     ]
    }
   ],
   "source": [
    "name = 'rose'\n",
    "age = 18\n",
    "print(f'{name} is {age} years old.')"
   ]
  },
  {
   "cell_type": "code",
   "execution_count": null,
   "id": "6e1ba420",
   "metadata": {},
   "outputs": [],
   "source": []
  }
 ],
 "metadata": {
  "kernelspec": {
   "display_name": "Python 3 (ipykernel)",
   "language": "python",
   "name": "python3"
  },
  "language_info": {
   "codemirror_mode": {
    "name": "ipython",
    "version": 3
   },
   "file_extension": ".py",
   "mimetype": "text/x-python",
   "name": "python",
   "nbconvert_exporter": "python",
   "pygments_lexer": "ipython3",
   "version": "3.11.5"
  }
 },
 "nbformat": 4,
 "nbformat_minor": 5
}
