{
 "cells": [
  {
   "cell_type": "code",
   "execution_count": null,
   "id": "5ff624d5",
   "metadata": {},
   "outputs": [],
   "source": []
  },
  {
   "cell_type": "markdown",
   "id": "68e9ca75",
   "metadata": {},
   "source": [
    "# List"
   ]
  },
  {
   "cell_type": "markdown",
   "id": "7660c4c7",
   "metadata": {},
   "source": [
    "List are ordered sequences that can hold a variety of object types.\n",
    "ex: [1,2,3]\n",
    "list is mutable "
   ]
  },
  {
   "cell_type": "code",
   "execution_count": 1,
   "id": "5f53fe9a",
   "metadata": {},
   "outputs": [
    {
     "name": "stdout",
     "output_type": "stream",
     "text": [
      "[1, 2, 3]\n"
     ]
    }
   ],
   "source": [
    "my_list = [1,2,3]\n",
    "print(my_list)"
   ]
  },
  {
   "cell_type": "code",
   "execution_count": 2,
   "id": "efb134ef",
   "metadata": {},
   "outputs": [
    {
     "name": "stdout",
     "output_type": "stream",
     "text": [
      "['abc', 2, 3, 4.09]\n"
     ]
    }
   ],
   "source": [
    "my_list = ['abc', 2, 3, 4.09]\n",
    "print(my_list)"
   ]
  },
  {
   "cell_type": "code",
   "execution_count": 3,
   "id": "066798dd",
   "metadata": {},
   "outputs": [
    {
     "data": {
      "text/plain": [
       "4"
      ]
     },
     "execution_count": 3,
     "metadata": {},
     "output_type": "execute_result"
    }
   ],
   "source": [
    "len(my_list)"
   ]
  },
  {
   "cell_type": "code",
   "execution_count": 4,
   "id": "29136b3f",
   "metadata": {},
   "outputs": [],
   "source": [
    "my_list = ['one', 'two', 'three']"
   ]
  },
  {
   "cell_type": "code",
   "execution_count": 5,
   "id": "71eee824",
   "metadata": {},
   "outputs": [
    {
     "data": {
      "text/plain": [
       "'one'"
      ]
     },
     "execution_count": 5,
     "metadata": {},
     "output_type": "execute_result"
    }
   ],
   "source": [
    "my_list[0] #index position"
   ]
  },
  {
   "cell_type": "code",
   "execution_count": 6,
   "id": "f5c9ff30",
   "metadata": {},
   "outputs": [
    {
     "data": {
      "text/plain": [
       "['two', 'three']"
      ]
     },
     "execution_count": 6,
     "metadata": {},
     "output_type": "execute_result"
    }
   ],
   "source": [
    "my_list[1:] # list[start:stop:step]"
   ]
  },
  {
   "cell_type": "code",
   "execution_count": 7,
   "id": "a67e6c8b",
   "metadata": {},
   "outputs": [],
   "source": [
    "another_list = ['four', 'five']"
   ]
  },
  {
   "cell_type": "code",
   "execution_count": 8,
   "id": "c7585220",
   "metadata": {},
   "outputs": [],
   "source": [
    "new_list = my_list + another_list #concat"
   ]
  },
  {
   "cell_type": "code",
   "execution_count": 18,
   "id": "0f4d0929",
   "metadata": {},
   "outputs": [
    {
     "name": "stdout",
     "output_type": "stream",
     "text": [
      "['one all caps', 'two', 'three', 'four']\n"
     ]
    }
   ],
   "source": [
    "print(new_list)"
   ]
  },
  {
   "cell_type": "code",
   "execution_count": 19,
   "id": "a8ac7400",
   "metadata": {},
   "outputs": [],
   "source": [
    "new_list[0] = 'one all caps'"
   ]
  },
  {
   "cell_type": "code",
   "execution_count": 20,
   "id": "ba9f967a",
   "metadata": {},
   "outputs": [
    {
     "data": {
      "text/plain": [
       "['one all caps', 'two', 'three', 'four']"
      ]
     },
     "execution_count": 20,
     "metadata": {},
     "output_type": "execute_result"
    }
   ],
   "source": [
    "new_list"
   ]
  },
  {
   "cell_type": "code",
   "execution_count": 21,
   "id": "06b3b09a",
   "metadata": {},
   "outputs": [],
   "source": [
    "new_list.append(\"six\")"
   ]
  },
  {
   "cell_type": "code",
   "execution_count": 22,
   "id": "76b0e974",
   "metadata": {},
   "outputs": [
    {
     "data": {
      "text/plain": [
       "['one all caps', 'two', 'three', 'four', 'six']"
      ]
     },
     "execution_count": 22,
     "metadata": {},
     "output_type": "execute_result"
    }
   ],
   "source": [
    "new_list"
   ]
  },
  {
   "cell_type": "code",
   "execution_count": 23,
   "id": "6a92d5f4",
   "metadata": {},
   "outputs": [
    {
     "data": {
      "text/plain": [
       "'six'"
      ]
     },
     "execution_count": 23,
     "metadata": {},
     "output_type": "execute_result"
    }
   ],
   "source": [
    "new_list.pop()"
   ]
  },
  {
   "cell_type": "code",
   "execution_count": 24,
   "id": "b3cf91d2",
   "metadata": {},
   "outputs": [
    {
     "data": {
      "text/plain": [
       "['one all caps', 'two', 'three', 'four']"
      ]
     },
     "execution_count": 24,
     "metadata": {},
     "output_type": "execute_result"
    }
   ],
   "source": [
    "new_list"
   ]
  },
  {
   "cell_type": "code",
   "execution_count": 25,
   "id": "100ae57c",
   "metadata": {},
   "outputs": [
    {
     "data": {
      "text/plain": [
       "'four'"
      ]
     },
     "execution_count": 25,
     "metadata": {},
     "output_type": "execute_result"
    }
   ],
   "source": [
    "popped_item = new_list.pop()\n",
    "popped_item"
   ]
  },
  {
   "cell_type": "code",
   "execution_count": 26,
   "id": "b0294dd6",
   "metadata": {},
   "outputs": [
    {
     "data": {
      "text/plain": [
       "['one all caps', 'two', 'three']"
      ]
     },
     "execution_count": 26,
     "metadata": {},
     "output_type": "execute_result"
    }
   ],
   "source": [
    "new_list"
   ]
  },
  {
   "cell_type": "code",
   "execution_count": 27,
   "id": "5411c537",
   "metadata": {},
   "outputs": [
    {
     "data": {
      "text/plain": [
       "'one all caps'"
      ]
     },
     "execution_count": 27,
     "metadata": {},
     "output_type": "execute_result"
    }
   ],
   "source": [
    "new_list.pop(0)"
   ]
  },
  {
   "cell_type": "code",
   "execution_count": 28,
   "id": "3f7f1980",
   "metadata": {},
   "outputs": [
    {
     "data": {
      "text/plain": [
       "['two', 'three']"
      ]
     },
     "execution_count": 28,
     "metadata": {},
     "output_type": "execute_result"
    }
   ],
   "source": [
    "new_list"
   ]
  },
  {
   "cell_type": "code",
   "execution_count": 29,
   "id": "5cf5bfd9",
   "metadata": {},
   "outputs": [],
   "source": [
    "string_list = ['a', 'd','x','d','k','s']\n",
    "num_list = [5,2,7,9,5,0]"
   ]
  },
  {
   "cell_type": "code",
   "execution_count": 31,
   "id": "41d89c9d",
   "metadata": {},
   "outputs": [
    {
     "data": {
      "text/plain": [
       "['a', 'd', 'd', 'k', 's', 'x']"
      ]
     },
     "execution_count": 31,
     "metadata": {},
     "output_type": "execute_result"
    }
   ],
   "source": [
    "string_list.sort()\n",
    "string_list"
   ]
  },
  {
   "cell_type": "code",
   "execution_count": 34,
   "id": "adfbd2ff",
   "metadata": {},
   "outputs": [],
   "source": [
    "string_sortedlist = string_list.sort()\n",
    "string_sortedlist"
   ]
  },
  {
   "cell_type": "code",
   "execution_count": 35,
   "id": "49be1b2c",
   "metadata": {},
   "outputs": [
    {
     "data": {
      "text/plain": [
       "NoneType"
      ]
     },
     "execution_count": 35,
     "metadata": {},
     "output_type": "execute_result"
    }
   ],
   "source": [
    "type(string_sortedlist)"
   ]
  },
  {
   "cell_type": "code",
   "execution_count": 36,
   "id": "b6868132",
   "metadata": {},
   "outputs": [],
   "source": [
    "string_list.sort()\n",
    "sorted_list = string_list"
   ]
  },
  {
   "cell_type": "code",
   "execution_count": 37,
   "id": "fb5de983",
   "metadata": {},
   "outputs": [
    {
     "data": {
      "text/plain": [
       "['a', 'd', 'd', 'k', 's', 'x']"
      ]
     },
     "execution_count": 37,
     "metadata": {},
     "output_type": "execute_result"
    }
   ],
   "source": [
    "string_list"
   ]
  },
  {
   "cell_type": "code",
   "execution_count": 38,
   "id": "1dfed472",
   "metadata": {},
   "outputs": [
    {
     "name": "stdout",
     "output_type": "stream",
     "text": [
      "[5, 2, 7, 9, 5, 0]\n"
     ]
    }
   ],
   "source": [
    "print(num_list)"
   ]
  },
  {
   "cell_type": "code",
   "execution_count": 41,
   "id": "d57403a6",
   "metadata": {},
   "outputs": [
    {
     "data": {
      "text/plain": [
       "[0, 2, 5, 5, 7, 9]"
      ]
     },
     "execution_count": 41,
     "metadata": {},
     "output_type": "execute_result"
    }
   ],
   "source": [
    "num_list.sort()\n",
    "sorted_numlist = num_list\n",
    "sorted_numlist"
   ]
  },
  {
   "cell_type": "code",
   "execution_count": 42,
   "id": "251be7d1",
   "metadata": {},
   "outputs": [
    {
     "name": "stdout",
     "output_type": "stream",
     "text": [
      "2\n"
     ]
    }
   ],
   "source": [
    "nested_list = [1, 1, [1, 2]]\n",
    "number_2 = nested_list[2][1]\n",
    "print(number_2) "
   ]
  },
  {
   "cell_type": "markdown",
   "id": "3215c07c",
   "metadata": {},
   "source": [
    "# Dictionaries"
   ]
  },
  {
   "cell_type": "markdown",
   "id": "b96d9145",
   "metadata": {},
   "source": [
    "1).Dictionaries are unorderd mappings for storing objects. Previouly we saw how lists store objects in an ordered sequence, dictionaries use a key- value pairing instead. \n",
    "2).This key-value pair allows users to quickly grap objects without needing to known an index location."
   ]
  },
  {
   "attachments": {
    "image.png": {
     "image/png": "[encoded data removed]"
    }
   },
   "cell_type": "markdown",
   "id": "a2c3aff0",
   "metadata": {},
   "source": [
    "![image.png](attachment:image.png)"
   ]
  },
  {
   "cell_type": "code",
   "execution_count": 45,
   "id": "3e082029",
   "metadata": {},
   "outputs": [],
   "source": [
    "my_dict = {'a':\"jack\", 'b':\"rose\", 'c':5, 'c':6}"
   ]
  },
  {
   "cell_type": "code",
   "execution_count": 46,
   "id": "806b8e8c",
   "metadata": {},
   "outputs": [
    {
     "data": {
      "text/plain": [
       "6"
      ]
     },
     "execution_count": 46,
     "metadata": {},
     "output_type": "execute_result"
    }
   ],
   "source": [
    "my_dict['c']  #we get the value which is newly stored in key so key value need to be uniqe"
   ]
  },
  {
   "cell_type": "code",
   "execution_count": 50,
   "id": "6a769498",
   "metadata": {},
   "outputs": [
    {
     "name": "stdout",
     "output_type": "stream",
     "text": [
      "6.99\n",
      "rose\n"
     ]
    }
   ],
   "source": [
    "my_dict = {'a':\"jack\", 'b':\"rose\",'c':6.99}\n",
    "print(my_dict['c'])\n",
    "print(my_dict['b'])"
   ]
  },
  {
   "cell_type": "code",
   "execution_count": 54,
   "id": "9685fa73",
   "metadata": {},
   "outputs": [],
   "source": [
    "K = {1:'a'} # key value should be in ''."
   ]
  },
  {
   "cell_type": "code",
   "execution_count": 57,
   "id": "365bdfed",
   "metadata": {},
   "outputs": [
    {
     "ename": "KeyError",
     "evalue": "1",
     "output_type": "error",
     "traceback": [
      "\u001b[1;31m---------------------------------------------------------------------------\u001b[0m",
      "\u001b[1;31mKeyError\u001b[0m                                  Traceback (most recent call last)",
      "Cell \u001b[1;32mIn[57], line 1\u001b[0m\n\u001b[1;32m----> 1\u001b[0m K[\u001b[38;5;241m1\u001b[39m]\n",
      "\u001b[1;31mKeyError\u001b[0m: 1"
     ]
    }
   ],
   "source": [
    "K[1]"
   ]
  },
  {
   "cell_type": "code",
   "execution_count": 59,
   "id": "b2dab136",
   "metadata": {},
   "outputs": [],
   "source": [
    "k = {'k1':\"abc\", 'k2':[1,'s',10.99],'k3':{'e':\"akaknc\", 'f':[11,\"dd\",0.01]}}"
   ]
  },
  {
   "cell_type": "code",
   "execution_count": 63,
   "id": "0ec316a3",
   "metadata": {},
   "outputs": [
    {
     "data": {
      "text/plain": [
       "[1, 's', 10.99]"
      ]
     },
     "execution_count": 63,
     "metadata": {},
     "output_type": "execute_result"
    }
   ],
   "source": [
    "k['k2']"
   ]
  },
  {
   "cell_type": "code",
   "execution_count": 64,
   "id": "a4620a58",
   "metadata": {},
   "outputs": [
    {
     "data": {
      "text/plain": [
       "1"
      ]
     },
     "execution_count": 64,
     "metadata": {},
     "output_type": "execute_result"
    }
   ],
   "source": [
    "k['k2'][0]"
   ]
  },
  {
   "cell_type": "code",
   "execution_count": 65,
   "id": "8dc5c3f6",
   "metadata": {},
   "outputs": [
    {
     "data": {
      "text/plain": [
       "{'e': 'akaknc', 'f': [11, 'dd', 0.01]}"
      ]
     },
     "execution_count": 65,
     "metadata": {},
     "output_type": "execute_result"
    }
   ],
   "source": [
    "k['k3']"
   ]
  },
  {
   "cell_type": "code",
   "execution_count": 66,
   "id": "859526b5",
   "metadata": {},
   "outputs": [
    {
     "data": {
      "text/plain": [
       "[11, 'dd', 0.01]"
      ]
     },
     "execution_count": 66,
     "metadata": {},
     "output_type": "execute_result"
    }
   ],
   "source": [
    "k['k3']['f']"
   ]
  },
  {
   "cell_type": "code",
   "execution_count": 67,
   "id": "61e58a89",
   "metadata": {},
   "outputs": [
    {
     "data": {
      "text/plain": [
       "'dd'"
      ]
     },
     "execution_count": 67,
     "metadata": {},
     "output_type": "execute_result"
    }
   ],
   "source": [
    "k['k3']['f'][1]"
   ]
  },
  {
   "cell_type": "code",
   "execution_count": 68,
   "id": "637dd744",
   "metadata": {},
   "outputs": [],
   "source": [
    "k['k3']['f'][1] = 'aa' # replace the object"
   ]
  },
  {
   "cell_type": "code",
   "execution_count": 69,
   "id": "c800a953",
   "metadata": {},
   "outputs": [
    {
     "data": {
      "text/plain": [
       "'aa'"
      ]
     },
     "execution_count": 69,
     "metadata": {},
     "output_type": "execute_result"
    }
   ],
   "source": [
    "k['k3']['f'][1]"
   ]
  },
  {
   "cell_type": "code",
   "execution_count": 70,
   "id": "92dee581",
   "metadata": {},
   "outputs": [
    {
     "data": {
      "text/plain": [
       "{'e': 'akaknc', 'f': [11, 'aa', 0.01]}"
      ]
     },
     "execution_count": 70,
     "metadata": {},
     "output_type": "execute_result"
    }
   ],
   "source": [
    "k['k3']"
   ]
  },
  {
   "cell_type": "code",
   "execution_count": 82,
   "id": "74c5b269",
   "metadata": {},
   "outputs": [],
   "source": [
    "A = {'k1':100, 'k2':200}"
   ]
  },
  {
   "cell_type": "code",
   "execution_count": 83,
   "id": "f1e862cd",
   "metadata": {},
   "outputs": [],
   "source": [
    "A['K3'] = 300 # new key value pair added"
   ]
  },
  {
   "cell_type": "code",
   "execution_count": 84,
   "id": "62c9500a",
   "metadata": {},
   "outputs": [
    {
     "data": {
      "text/plain": [
       "{'k1': 100, 'k2': 200, 'K3': 300}"
      ]
     },
     "execution_count": 84,
     "metadata": {},
     "output_type": "execute_result"
    }
   ],
   "source": [
    "A"
   ]
  },
  {
   "cell_type": "code",
   "execution_count": 87,
   "id": "2cb862ab",
   "metadata": {},
   "outputs": [],
   "source": [
    "A = {'k1': 100, 'k2': 200, 'K3': 300}"
   ]
  },
  {
   "cell_type": "code",
   "execution_count": 88,
   "id": "ad764dd5",
   "metadata": {},
   "outputs": [
    {
     "data": {
      "text/plain": [
       "dict_keys(['k1', 'k2', 'K3'])"
      ]
     },
     "execution_count": 88,
     "metadata": {},
     "output_type": "execute_result"
    }
   ],
   "source": [
    "A.keys()"
   ]
  },
  {
   "cell_type": "code",
   "execution_count": 89,
   "id": "b14ef7dc",
   "metadata": {},
   "outputs": [
    {
     "data": {
      "text/plain": [
       "dict_items([('k1', 100), ('k2', 200), ('K3', 300)])"
      ]
     },
     "execution_count": 89,
     "metadata": {},
     "output_type": "execute_result"
    }
   ],
   "source": [
    "A.items()"
   ]
  },
  {
   "cell_type": "code",
   "execution_count": null,
   "id": "16aeb234",
   "metadata": {},
   "outputs": [],
   "source": []
  }
 ],
 "metadata": {
  "kernelspec": {
   "display_name": "Python 3 (ipykernel)",
   "language": "python",
   "name": "python3"
  },
  "language_info": {
   "codemirror_mode": {
    "name": "ipython",
    "version": 3
   },
   "file_extension": ".py",
   "mimetype": "text/x-python",
   "name": "python",
   "nbconvert_exporter": "python",
   "pygments_lexer": "ipython3",
   "version": "3.11.5"
  }
 },
 "nbformat": 4,
 "nbformat_minor": 5
}
